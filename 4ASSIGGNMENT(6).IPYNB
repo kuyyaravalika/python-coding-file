{
 "cells": [
  {
   "cell_type": "code",
   "execution_count": 1,
   "id": "5a9a979b",
   "metadata": {},
   "outputs": [
    {
     "name": "stdout",
     "output_type": "stream",
     "text": [
      "enter any numbers: 34\n",
      "enter any number: 56\n",
      "enter any number: 1\n"
     ]
    }
   ],
   "source": [
    "#1. Define a function which will return Max of three numbers\n",
    "\n",
    "\n",
    "a=int(input(\"enter any numbers: \"))\n",
    "b=int(input(\"enter any number: \"))\n",
    "c=int(input(\"enter any number: \"))\n",
    "def max(a,b,c):\n",
    "    if a>b and b>c:\n",
    "        print(a)\n",
    "    \n",
    "    elif b>c and c>a:\n",
    "        print(b)\n",
    "    \n",
    "    else:\n",
    "        print(c)\n"
   ]
  },
  {
   "cell_type": "code",
   "execution_count": 2,
   "id": "e014f52d",
   "metadata": {},
   "outputs": [
    {
     "name": "stdout",
     "output_type": "stream",
     "text": [
      "enter your string: ravalika\n"
     ]
    },
    {
     "data": {
      "text/plain": [
       "'akilavar'"
      ]
     },
     "execution_count": 2,
     "metadata": {},
     "output_type": "execute_result"
    }
   ],
   "source": [
    "#2. Define a python function to reverse a string.\n",
    "\n",
    "def reverse(t):\n",
    "    x=\"\"\n",
    "    for y in t:\n",
    "        x=y+x\n",
    "    return x\n",
    "t=input(\"enter your string: \")\n",
    "reverse(t)\n"
   ]
  },
  {
   "cell_type": "code",
   "execution_count": 4,
   "id": "4cd6b694",
   "metadata": {},
   "outputs": [],
   "source": [
    "#3.Write a python program to define a function that accepts 2 values and return its sum,subtraction and multiplication.\n",
    "  \n",
    "    \n",
    "    \n",
    "def sum(num1,num2):\n",
    "    print(num1+num2)"
   ]
  },
  {
   "cell_type": "code",
   "execution_count": 5,
   "id": "150bc457",
   "metadata": {},
   "outputs": [
    {
     "name": "stdout",
     "output_type": "stream",
     "text": [
      "5\n"
     ]
    }
   ],
   "source": [
    "sum(4,1)"
   ]
  },
  {
   "cell_type": "code",
   "execution_count": null,
   "id": "0970795f",
   "metadata": {},
   "outputs": [],
   "source": [
    "def sub(num1,num2):\n",
    "    print(num1-num2)\n"
   ]
  },
  {
   "cell_type": "code",
   "execution_count": 6,
   "id": "8bb30e7a",
   "metadata": {},
   "outputs": [
    {
     "name": "stdout",
     "output_type": "stream",
     "text": [
      "15\n"
     ]
    }
   ],
   "source": [
    "sum(10,5)"
   ]
  },
  {
   "cell_type": "code",
   "execution_count": null,
   "id": "104f4042",
   "metadata": {},
   "outputs": [],
   "source": [
    "def mul(num1,num2):\n",
    "    print(num1*num2)\n",
    "    \n"
   ]
  },
  {
   "cell_type": "markdown",
   "id": "8db924fd",
   "metadata": {},
   "source": [
    "sum(15,6)\n"
   ]
  },
  {
   "cell_type": "code",
   "execution_count": null,
   "id": "4154d0b0",
   "metadata": {},
   "outputs": [
    {
     "name": "stdout",
     "output_type": "stream",
     "text": [
      "enter total number of students : 10\n",
      "enter students roll numbers: 1234567890\n",
      "enter students roll numbers: 1234567882\n",
      "enter students roll numbers: 2\n"
     ]
    }
   ],
   "source": [
    "#4. Define a function that accepts roll number and returns weather the student is present or absent.\n",
    "\n",
    "\n",
    "def student(num,l):\n",
    "    if num in l:\n",
    "        return \"He is present\"\n",
    "    else: \n",
    "        return \"He is abscent\"\n",
    "l=[]\n",
    "n=int(input(\"enter total number of students : \"))\n",
    "for i in range(n):\n",
    "    num=int(input(\"enter students roll numbers: \"))\n",
    "    l.append(num)\n",
    "print(l)\n",
    "n=int(input(\"enter the student roll number to check: \"))\n",
    "\n",
    "student(n,l) \n"
   ]
  },
  {
   "cell_type": "code",
   "execution_count": 1,
   "id": "a5c5b218",
   "metadata": {},
   "outputs": [
    {
     "name": "stdout",
     "output_type": "stream",
     "text": [
      "enter your string:qwertyuiop\n",
      "vovels:  4\n",
      "consonants:  6\n"
     ]
    }
   ],
   "source": [
    "#6. Define a function which counts vowels and consonant in a word.\n",
    "\n",
    "def vovels(s):\n",
    "    c=0\n",
    "    d=0\n",
    "    for i in s:\n",
    "        if (i.lower()==\"a\") or (i.lower()==\"e\") or (i.lower()==\"i\")  or (i.lower()==\"o\") or (i.lower()==\"u\"):\n",
    "            c+=1\n",
    "        else:\n",
    "            d=d+1\n",
    "    print(\"vovels: \",c)\n",
    "    print(\"consonants: \",d)\n",
    "string=input(\"enter your string:\")\n",
    "vovels(string)\n"
   ]
  },
  {
   "cell_type": "code",
   "execution_count": 2,
   "id": "4572d2a2",
   "metadata": {},
   "outputs": [
    {
     "name": "stdout",
     "output_type": "stream",
     "text": [
      "enter integer: 6\n"
     ]
    },
    {
     "data": {
      "text/plain": [
       "720"
      ]
     },
     "execution_count": 2,
     "metadata": {},
     "output_type": "execute_result"
    }
   ],
   "source": [
    "#7. Define a function that returns Factorial of a number.\n",
    "\n",
    "def fact(n):\n",
    "    fact=1\n",
    "    for i in range(1,n+1):\n",
    "        fact=fact*i\n",
    "    return fact\n",
    "n=int(input(\"enter integer: \"))\n",
    "fact(n)\n"
   ]
  },
  {
   "cell_type": "code",
   "execution_count": 3,
   "id": "b03b3353",
   "metadata": {},
   "outputs": [
    {
     "name": "stdout",
     "output_type": "stream",
     "text": [
      "enter the radius: 2\n"
     ]
    },
    {
     "data": {
      "text/plain": [
       "12.56"
      ]
     },
     "execution_count": 3,
     "metadata": {},
     "output_type": "execute_result"
    }
   ],
   "source": [
    "#8. Define a function that accepts radius and returns the area of a circle.\n",
    "\n",
    "def area(r):\n",
    "    radius=3.14*(r**2)\n",
    "    return radius\n",
    "r=int(input(\"enter the radius: \"))\n",
    "area(r)\n"
   ]
  },
  {
   "cell_type": "code",
   "execution_count": 4,
   "id": "088fb8cf",
   "metadata": {},
   "outputs": [
    {
     "name": "stdout",
     "output_type": "stream",
     "text": [
      "enter the num you want check: 5\n"
     ]
    },
    {
     "data": {
      "text/plain": [
       "'prime'"
      ]
     },
     "execution_count": 4,
     "metadata": {},
     "output_type": "execute_result"
    }
   ],
   "source": [
    "#9. Define a function that takes a number as a parameter and check the number is prime or not.\n",
    "\n",
    "def prime(x):\n",
    "    c=0\n",
    "    for i in range(1,x+1):\n",
    "        if (x%i==0):\n",
    "            c=c+1\n",
    "    if(c>2):\n",
    "        return \"not prime\"\n",
    "    else:\n",
    "        return \"prime\"\n",
    "n=int(input(\"enter the num you want check: \"))\n",
    "prime(n)\n"
   ]
  },
  {
   "cell_type": "code",
   "execution_count": 5,
   "id": "37a02802",
   "metadata": {},
   "outputs": [
    {
     "name": "stdout",
     "output_type": "stream",
     "text": [
      "enter the range: 6\n",
      "enter ur element: 3\n",
      "enter ur element: 4\n",
      "enter ur element: 2\n",
      "enter ur element: 44\n",
      "enter ur element: 67\n",
      "enter ur element: 1\n",
      "[3, 4, 2, 44, 67, 1]\n"
     ]
    },
    {
     "data": {
      "text/plain": [
       "True"
      ]
     },
     "execution_count": 5,
     "metadata": {},
     "output_type": "execute_result"
    }
   ],
   "source": [
    "#10. Mary wants to run a 25-mile marathon. When she attempts to sign up for the marathon, she notices the sign-up sheet doesn't \n",
    "#directly state the marathon's length. Instead, the marathon's length is listed in small, different portions. Help Mary find out \n",
    "#how long the marathon actually is. So create a function that ** Return True if the marathon is 25 miles long, otherwise, return \n",
    "#False.\n",
    "\n",
    "def marathon(l):\n",
    "    s=0\n",
    "    for i in l:\n",
    "        if(i<0):\n",
    "            i=-(i)\n",
    "            s=s+i\n",
    "        else:\n",
    "            s=s+i\n",
    "    if (s>=25):\n",
    "        return True\n",
    "    else:\n",
    "        return False\n",
    "    \n",
    "l=[]\n",
    "n=int(input(\"enter the range: \"))\n",
    "for i in range(n):\n",
    "    num=int(input(\"enter ur element: \"))\n",
    "    l.append(num)\n",
    "print(l)\n",
    "marathon(l)\n"
   ]
  },
  {
   "cell_type": "code",
   "execution_count": 6,
   "id": "5b773003",
   "metadata": {},
   "outputs": [
    {
     "name": "stdout",
     "output_type": "stream",
     "text": [
      "enter the number to ckeck:34\n"
     ]
    },
    {
     "data": {
      "text/plain": [
       "False"
      ]
     },
     "execution_count": 6,
     "metadata": {},
     "output_type": "execute_result"
    }
   ],
   "source": [
    "#11. Create a function that takes a number and returns True if the number is automorphic, False if it isn't.\n",
    "\n",
    "def automorphic(x=5):\n",
    "    square=x**2\n",
    "    s=str(square)\n",
    "    if(str(x)==s[-1]):\n",
    "        return True\n",
    "    else:\n",
    "        return False\n",
    "num=int(input(\"enter the number to ckeck:\"))\n",
    "automorphic(num)\n"
   ]
  },
  {
   "cell_type": "code",
   "execution_count": 7,
   "id": "3085808f",
   "metadata": {},
   "outputs": [
    {
     "name": "stdout",
     "output_type": "stream",
     "text": [
      "enter a number: 1\n",
      "enter number2: 2\n",
      "enter number3: 3\n"
     ]
    },
    {
     "data": {
      "text/plain": [
       "False"
      ]
     },
     "execution_count": 7,
     "metadata": {},
     "output_type": "execute_result"
    }
   ],
   "source": [
    "#12) Create a function, that will take given a, b, c, and do the following: Add a to itself b times and Check if the result \n",
    "#is divisible by c.and return true if it is divisible by c or false.\n",
    "\n",
    "\n",
    "def check(a=1,b=2,c=2):\n",
    "    num=0\n",
    "    for i in range(b):\n",
    "        num=num+a\n",
    "    if(num%c==0):\n",
    "        return True\n",
    "    else:\n",
    "        return False\n",
    "x=int(input(\"enter a number: \"))\n",
    "y=int(input(\"enter number2: \"))\n",
    "z=int(input(\"enter number3: \"))\n",
    "check(x,y,z)\n"
   ]
  },
  {
   "cell_type": "code",
   "execution_count": 8,
   "id": "7a14b271",
   "metadata": {},
   "outputs": [
    {
     "name": "stdout",
     "output_type": "stream",
     "text": [
      "enter the string: asdfghj\n"
     ]
    },
    {
     "data": {
      "text/plain": [
       "'asdfghj'"
      ]
     },
     "execution_count": 8,
     "metadata": {},
     "output_type": "execute_result"
    }
   ],
   "source": [
    "#13) Create a function that changes specific words into emoticons. Given a sentence as a string, replace the words \n",
    "#smile, grin, sad and mad with their corresponding emoticons.\n",
    "\n",
    "def emoji(s):\n",
    "    l=s.split()\n",
    "    for i in l:\n",
    "        if(i==\"smile\"):\n",
    "            s=s.replace(\"smile\",\":D\")\n",
    "        elif(i==\"sad\"):\n",
    "            s=s.replace(\"sad\",\":(\")\n",
    "        elif(i==\"grin\"):\n",
    "            s=replace(\"sad\",\":)\")\n",
    "        elif(i==\"mad\"):\n",
    "            s=s.replace(\"sad\",\":p\")\n",
    "    return s\n",
    "string=input(\"enter the string: \")\n",
    "emoji(string)\n"
   ]
  },
  {
   "cell_type": "code",
   "execution_count": 9,
   "id": "67c12614",
   "metadata": {},
   "outputs": [
    {
     "name": "stdout",
     "output_type": "stream",
     "text": [
      "enter the range: 5\n",
      "enter the numbers: 1\n",
      "enter the numbers: 2\n",
      "enter the numbers: 3\n",
      "enter the numbers: 4\n",
      "enter the numbers: 5\n",
      "[1, 2, 3, 4, 5]\n",
      "squares:  [1, 4, 9, 16, 25]\n",
      "cubes:  [1, 8, 27, 64, 125]\n"
     ]
    }
   ],
   "source": [
    "#14) Write a Python program to square and cube every number in a given list of integers using Lambda.\n",
    "\n",
    "l=[]\n",
    "n=int(input(\"enter the range: \"))\n",
    "for i in range(n):\n",
    "    num=input(\"enter the numbers: \")\n",
    "    if(num.isdigit()):\n",
    "        num=int(num)\n",
    "        l.append(num)\n",
    "    else:\n",
    "        l.append(num)\n",
    "print(l)\n",
    "y=list(map(lambda x:x**2,l))\n",
    "x=list(map(lambda x:x**3,l))\n",
    "print(\"squares: \",y)\n",
    "print(\"cubes: \",x)\n"
   ]
  },
  {
   "cell_type": "code",
   "execution_count": null,
   "id": "6b9a6cea",
   "metadata": {},
   "outputs": [],
   "source": []
  }
 ],
 "metadata": {
  "kernelspec": {
   "display_name": "Python 3 (ipykernel)",
   "language": "python",
   "name": "python3"
  },
  "language_info": {
   "codemirror_mode": {
    "name": "ipython",
    "version": 3
   },
   "file_extension": ".py",
   "mimetype": "text/x-python",
   "name": "python",
   "nbconvert_exporter": "python",
   "pygments_lexer": "ipython3",
   "version": "3.11.3"
  }
 },
 "nbformat": 4,
 "nbformat_minor": 5
}
