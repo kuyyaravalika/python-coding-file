{
 "cells": [
  {
   "cell_type": "code",
   "execution_count": 1,
   "id": "6691605d",
   "metadata": {},
   "outputs": [
    {
     "name": "stdout",
     "output_type": "stream",
     "text": [
      "1\n",
      "2\n",
      "3\n",
      "4\n",
      "5\n",
      "6\n"
     ]
    }
   ],
   "source": [
    "#1.Write a Python program to loop through all the elements in a list\n",
    "\n",
    "for x in range(7):\n",
    "    if x!=0:\n",
    "        print(x)\n"
   ]
  },
  {
   "cell_type": "code",
   "execution_count": 2,
   "id": "a991f00a",
   "metadata": {},
   "outputs": [
    {
     "name": "stdout",
     "output_type": "stream",
     "text": [
      "ytr\n",
      "enter the position: 4\n"
     ]
    }
   ],
   "source": [
    "#2. Write a Python program where you will ask the users to insert elements in a list\n",
    "\n",
    "num1=input()\n",
    "list=[1,2,3,4,5,\"abc\"]\n",
    "x=int(input(\"enter the position: \"))\n",
    "if x>=len(list):\n",
    "    print(\"{}\".format(num1))\n",
    "    list.append(num1)[x]\n"
   ]
  },
  {
   "cell_type": "code",
   "execution_count": 4,
   "id": "da0cd802",
   "metadata": {},
   "outputs": [
    {
     "name": "stdout",
     "output_type": "stream",
     "text": [
      "enter the length of the list: 3\n",
      "enter the value: 1\n",
      "enter the value: 2\n",
      "enter the value: 3\n",
      "[]\n"
     ]
    }
   ],
   "source": [
    "#3. Write a Python program to remove all the odd index value from a list and only even index elements should remain\n",
    "\n",
    "ip=[]\n",
    "op=[]\n",
    "a=1\n",
    "x=int(input(\"enter the length of the list: \"))\n",
    "if (a<=x):\n",
    "    while a<=x:\n",
    "        y=int(input (\"enter the value: \"))\n",
    "        a=a+1  \n",
    "        ip.insert(y,y)\n",
    "print(op)\n",
    "for i in op:\n",
    "    if(op.index(i)%2==0):\n",
    "        print(i)\n"
   ]
  },
  {
   "cell_type": "code",
   "execution_count": 5,
   "id": "52b11e93",
   "metadata": {},
   "outputs": [
    {
     "name": "stdout",
     "output_type": "stream",
     "text": [
      "enter the range: 3\n",
      "enter the numbers: 6\n",
      "enter the numbers: 5\n",
      "enter the numbers: 4\n",
      "[6, 5, 4]\n",
      "15\n",
      "120\n"
     ]
    }
   ],
   "source": [
    "\n",
    "#4. Write a Python program to sum and multiply all the items in a list\n",
    "\n",
    "y=[]\n",
    "n=int(input(\"enter the range: \"))\n",
    "for i in range(n):\n",
    "    num3=input(\"enter the numbers: \")\n",
    "    if(num3.isdigit()):\n",
    "        num3=int(num3)\n",
    "        y.append(num3)\n",
    "    else:\n",
    "        y.append(num3)\n",
    "print(y)\n",
    "s=0\n",
    "product=1\n",
    "for i in y:\n",
    "    s+=i\n",
    "    product*=i\n",
    "print(s)\n",
    "print(product)\n"
   ]
  },
  {
   "cell_type": "code",
   "execution_count": 6,
   "id": "6e1b6d05",
   "metadata": {},
   "outputs": [
    {
     "name": "stdout",
     "output_type": "stream",
     "text": [
      "enter the range: 5\n",
      "enter the numbers: 1\n",
      "enter the numbers: 2\n",
      "enter the numbers: 3\n",
      "enter the numbers: 4\n",
      "enter the numbers: 5\n",
      "[1, 2, 3, 4, 5]\n",
      "5\n",
      "1\n"
     ]
    }
   ],
   "source": [
    "#5. Write a Python program to get the maximum and minimum numbers from a list\n",
    "\n",
    "\n",
    "\n",
    "y=[]\n",
    "n=int(input(\"enter the range: \"))\n",
    "for i in range(n):\n",
    "    num3=input(\"enter the numbers: \")\n",
    "    if(num3.isdigit()):\n",
    "        num3=int(num3)\n",
    "        y.append(num3)\n",
    "    else:\n",
    "        y.append(num3)\n",
    "print(y)\n",
    "print(max(y))\n",
    "print(min(y))\n"
   ]
  },
  {
   "cell_type": "code",
   "execution_count": 7,
   "id": "33aaf4fd",
   "metadata": {},
   "outputs": [
    {
     "data": {
      "text/plain": [
       "['b', 'c', 3, 'asd']"
      ]
     },
     "execution_count": 7,
     "metadata": {},
     "output_type": "execute_result"
    }
   ],
   "source": [
    "#6. Write a Python program to print a specified list after removing the 0th, 4th and 5th elements\n",
    "\n",
    "L=['a','b','c',1,2,3,\"asd\"]\n",
    "L.remove(2)\n",
    "L.remove(1)\n",
    "L.remove('a')\n",
    "L\n"
   ]
  },
  {
   "cell_type": "code",
   "execution_count": 8,
   "id": "8cb1e5bf",
   "metadata": {},
   "outputs": [
    {
     "name": "stdout",
     "output_type": "stream",
     "text": [
      "['Green', 'White', 'Black']\n"
     ]
    }
   ],
   "source": [
    "#7. Write a Python program to convert a list of characters into a string\n",
    "\n",
    "\n",
    "x=['Red','Green', 'White', 'Black', 'Pink', 'Yellow']\n",
    "y=[0,4,5]\n",
    "z=[item for index,item in enumerate(x)if index not in y]\n",
    "print(z)\n"
   ]
  },
  {
   "cell_type": "code",
   "execution_count": 9,
   "id": "0ccb473c",
   "metadata": {},
   "outputs": [
    {
     "name": "stdout",
     "output_type": "stream",
     "text": [
      "enter the range: 6\n",
      "enter the numbers: 1\n",
      "enter the numbers: 2\n",
      "enter the numbers: 3\n",
      "enter the numbers: 4\n",
      "enter the numbers: 5\n",
      "enter the numbers: 6\n",
      "[1, 2, 3, 4, 5, 6]\n",
      "3.5\n"
     ]
    }
   ],
   "source": [
    "#8.  Write a Python program to compute average of given lists.\n",
    "\n",
    "\n",
    "\n",
    "\n",
    "y=[]\n",
    "n=int(input(\"enter the range: \"))\n",
    "for i in range(n):\n",
    "    num3=input(\"enter the numbers: \")\n",
    "    if(num3.isdigit()):\n",
    "        num3=int(num3)\n",
    "        y.append(num3)\n",
    "    else:\n",
    "        y.append(num3)\n",
    "print(y)\n",
    "s=0\n",
    "avg=0\n",
    "length=len(y)\n",
    "for i in y:\n",
    "    s+=i\n",
    "avg=s/length\n",
    "print(avg)\n"
   ]
  },
  {
   "cell_type": "code",
   "execution_count": 1,
   "id": "a26ff75d",
   "metadata": {},
   "outputs": [
    {
     "name": "stdout",
     "output_type": "stream",
     "text": [
      "enter the range: 5\n",
      "enter the numbers: w\n",
      "enter the numbers: y\n",
      "enter the numbers: y\n",
      "enter the numbers: j\n",
      "enter the numbers: \",\"\n",
      "['w', 'y', 'y', 'j', '\",\"']\n",
      "0\n"
     ]
    }
   ],
   "source": [
    "#9. Write a Python program to count integer in a given mixed list.\n",
    "\n",
    "\n",
    "\n",
    "y=[]\n",
    "n=int(input(\"enter the range: \"))\n",
    "for i in range(n):\n",
    "    num3=input(\"enter the numbers: \")\n",
    "    if(num3.isdigit()):\n",
    "        num3=int(num3)\n",
    "        y.append(num3)\n",
    "    else:\n",
    "        y.append(num3)\n",
    "print(y)\n",
    "count=0\n",
    "for i in str(y):\n",
    "    if (i.isdigit()):\n",
    "        count+=1\n",
    "print(count)\n"
   ]
  },
  {
   "cell_type": "code",
   "execution_count": 2,
   "id": "c4085eae",
   "metadata": {},
   "outputs": [
    {
     "data": {
      "text/plain": [
       "[5, 4, 3, 2, 1]"
      ]
     },
     "execution_count": 2,
     "metadata": {},
     "output_type": "execute_result"
    }
   ],
   "source": [
    "#10. Write a Python program to reverse the list\n",
    "\n",
    "l=[1,2,3,4,5]\n",
    "l.reverse()\n",
    "l\n"
   ]
  },
  {
   "cell_type": "code",
   "execution_count": 1,
   "id": "56b07fc0",
   "metadata": {},
   "outputs": [
    {
     "name": "stdout",
     "output_type": "stream",
     "text": [
      "enter a string: asdfgghj\n",
      "('a', 's', 'd', 'f', 'g', 'g', 'h', 'j')\n"
     ]
    }
   ],
   "source": [
    "#11. Write a Python program convert a given string to a tuple\n",
    "\n",
    " \n",
    "        \n",
    "x=input(\"enter a string: \")\n",
    "y=tuple(x)\n",
    "print(y)\n",
    "    \n"
   ]
  },
  {
   "cell_type": "code",
   "execution_count": null,
   "id": "5eb22efe",
   "metadata": {},
   "outputs": [],
   "source": [
    "\n"
   ]
  },
  {
   "cell_type": "code",
   "execution_count": null,
   "id": "a71fc4e9",
   "metadata": {},
   "outputs": [],
   "source": []
  }
 ],
 "metadata": {
  "kernelspec": {
   "display_name": "Python 3 (ipykernel)",
   "language": "python",
   "name": "python3"
  },
  "language_info": {
   "codemirror_mode": {
    "name": "ipython",
    "version": 3
   },
   "file_extension": ".py",
   "mimetype": "text/x-python",
   "name": "python",
   "nbconvert_exporter": "python",
   "pygments_lexer": "ipython3",
   "version": "3.11.3"
  }
 },
 "nbformat": 4,
 "nbformat_minor": 5
}
