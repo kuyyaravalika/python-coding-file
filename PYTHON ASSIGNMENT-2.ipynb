{
 "cells": [
  {
   "cell_type": "code",
   "execution_count": 1,
   "id": "e6a02ee9",
   "metadata": {},
   "outputs": [],
   "source": [
    "#1.create a python program to print lower case alphabets (a-z) with conditional statement"
   ]
  },
  {
   "cell_type": "code",
   "execution_count": 2,
   "id": "9681fa70",
   "metadata": {},
   "outputs": [
    {
     "name": "stdout",
     "output_type": "stream",
     "text": [
      "abcdefgfigklmnopqrstuvwxyz\n"
     ]
    }
   ],
   "source": [
    "a1=\"ABCDEFGFIGKLMNOPQRSTUVWXYZ\"\n",
    "if(a1[0]=='A'):\n",
    "    print(a1.lower())"
   ]
  },
  {
   "cell_type": "code",
   "execution_count": 3,
   "id": "a2578229",
   "metadata": {},
   "outputs": [],
   "source": [
    "#2.create python program to print lower and upper case alphabets with looping concepts (while loop and for loop)"
   ]
  },
  {
   "cell_type": "code",
   "execution_count": 1,
   "id": "30e41fab",
   "metadata": {},
   "outputs": [
    {
     "name": "stdout",
     "output_type": "stream",
     "text": [
      "ABCDEFGFIGKLMNOPQRSTUVWXYZ\n",
      "abcdefgfigklmnopqrstuvwxyz\n"
     ]
    }
   ],
   "source": [
    "a=\"ABCDEFGFIGKLMNOPQRSTUVWXYZ\"\n",
    "while(a[0]=='A'):\n",
    "    print(a)\n",
    "    for z in a:\n",
    "        print(a.lower()) \n",
    "        break\n",
    "    break"
   ]
  },
  {
   "cell_type": "code",
   "execution_count": null,
   "id": "c6ac54f9",
   "metadata": {},
   "outputs": [],
   "source": []
  },
  {
   "cell_type": "code",
   "execution_count": null,
   "id": "c5f88dc7",
   "metadata": {},
   "outputs": [],
   "source": []
  }
 ],
 "metadata": {
  "kernelspec": {
   "display_name": "Python 3 (ipykernel)",
   "language": "python",
   "name": "python3"
  },
  "language_info": {
   "codemirror_mode": {
    "name": "ipython",
    "version": 3
   },
   "file_extension": ".py",
   "mimetype": "text/x-python",
   "name": "python",
   "nbconvert_exporter": "python",
   "pygments_lexer": "ipython3",
   "version": "3.11.3"
  }
 },
 "nbformat": 4,
 "nbformat_minor": 5
}
