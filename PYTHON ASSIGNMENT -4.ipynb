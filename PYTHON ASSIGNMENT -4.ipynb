{
 "cells": [
  {
   "cell_type": "code",
   "execution_count": 1,
   "id": "fb757d45",
   "metadata": {},
   "outputs": [
    {
     "ename": "SyntaxError",
     "evalue": "unmatched ')' (3925776537.py, line 2)",
     "output_type": "error",
     "traceback": [
      "\u001b[1;36m  Cell \u001b[1;32mIn[1], line 2\u001b[1;36m\u001b[0m\n\u001b[1;33m    a)\u001b[0m\n\u001b[1;37m     ^\u001b[0m\n\u001b[1;31mSyntaxError\u001b[0m\u001b[1;31m:\u001b[0m unmatched ')'\n"
     ]
    }
   ],
   "source": [
    "#1.create a python program to print the below pattern using for loop as or while loop\n",
    "#a)\n",
    "#1\n",
    "#22\n",
    "#333\n",
    "#4444\n",
    "#55555"
   ]
  },
  {
   "cell_type": "code",
   "execution_count": 2,
   "id": "5d9edd7d",
   "metadata": {},
   "outputs": [
    {
     "name": "stdout",
     "output_type": "stream",
     "text": [
      "1\n",
      "22\n",
      "333\n",
      "4444\n",
      "55555\n"
     ]
    }
   ],
   "source": [
    "A='1'\n",
    "B='22'\n",
    "C='333'\n",
    "D='4444'\n",
    "E='55555'\n",
    "for x in A:\n",
    "    print(A)\n",
    "    for x in B:\n",
    "        print(B)\n",
    "        for x in C:\n",
    "            print(C)\n",
    "            for x in D:\n",
    "                print(D)\n",
    "                for x in E:\n",
    "                    print(E)\n",
    "                    break\n",
    "                break\n",
    "            break\n",
    "        break\n",
    "    break\n",
    "                \n",
    "        \n",
    "    \n",
    "\n",
    "            \n",
    "    \n",
    "    \n",
    "      "
   ]
  },
  {
   "cell_type": "code",
   "execution_count": 9,
   "id": "c29cedee",
   "metadata": {},
   "outputs": [
    {
     "name": "stdout",
     "output_type": "stream",
     "text": [
      "1\n",
      "12\n",
      "123\n",
      "1234\n",
      "12345\n"
     ]
    }
   ],
   "source": [
    "#b \n",
    "A='1'\n",
    "B='12'\n",
    "C='123'\n",
    "D='1234'\n",
    "E='12345'\n",
    "for x in A:\n",
    "    print(A)\n",
    "    for x in B:\n",
    "        print(B)\n",
    "        for x in C:\n",
    "            print(C)\n",
    "            for x in D:\n",
    "                print(D)\n",
    "                for x in E:\n",
    "                    print(E)\n",
    "                    break\n",
    "                break\n",
    "            break\n",
    "        break\n",
    "    break"
   ]
  },
  {
   "cell_type": "code",
   "execution_count": 11,
   "id": "1546711d",
   "metadata": {},
   "outputs": [
    {
     "name": "stdout",
     "output_type": "stream",
     "text": [
      "11111\n",
      "2222\n",
      "333\n",
      "44\n",
      "5\n"
     ]
    }
   ],
   "source": [
    "#c\n",
    "A='11111'\n",
    "B='2222'\n",
    "C='333'\n",
    "D='44'\n",
    "E='5'\n",
    "for x in A:\n",
    "    print(A)\n",
    "    for x in B:\n",
    "        print(B)\n",
    "        for x in C:\n",
    "            print(C)\n",
    "            for x in D:\n",
    "                print(D)\n",
    "                for x in E:\n",
    "                    print(E)\n",
    "                    break\n",
    "                break\n",
    "            break\n",
    "        break\n",
    "    break"
   ]
  },
  {
   "cell_type": "code",
   "execution_count": 12,
   "id": "cb34df60",
   "metadata": {},
   "outputs": [
    {
     "name": "stdout",
     "output_type": "stream",
     "text": [
      "55555\n",
      "5555\n",
      "555\n",
      "55\n",
      "5\n"
     ]
    }
   ],
   "source": [
    "#D\n",
    "A='55555'\n",
    "B='5555'\n",
    "C='555'\n",
    "D='55'\n",
    "E='5'\n",
    "for x in A:\n",
    "    print(A)\n",
    "    for x in B:\n",
    "        print(B)\n",
    "        for x in C:\n",
    "            print(C)\n",
    "            for x in D:\n",
    "                print(D)\n",
    "                for x in E:\n",
    "                    print(E)\n",
    "                    break\n",
    "                break\n",
    "            break\n",
    "        break\n",
    "    break"
   ]
  },
  {
   "cell_type": "code",
   "execution_count": 13,
   "id": "e27418fc",
   "metadata": {},
   "outputs": [
    {
     "name": "stdout",
     "output_type": "stream",
     "text": [
      "012345\n",
      "01234\n",
      "0123\n",
      "012\n",
      "01\n"
     ]
    }
   ],
   "source": [
    "#E\n",
    "A='012345'\n",
    "B='01234'\n",
    "C='0123'\n",
    "D='012'\n",
    "E='01'\n",
    "for x in A:\n",
    "    print(A)\n",
    "    for x in B:\n",
    "        print(B)\n",
    "        for x in C:\n",
    "            print(C)\n",
    "            for x in D:\n",
    "                print(D)\n",
    "                for x in E:\n",
    "                    print(E)\n",
    "                    break\n",
    "                break\n",
    "            break\n",
    "        break\n",
    "    break"
   ]
  },
  {
   "cell_type": "code",
   "execution_count": 14,
   "id": "8bc4191f",
   "metadata": {},
   "outputs": [
    {
     "name": "stdout",
     "output_type": "stream",
     "text": [
      "1\n",
      "33\n",
      "555\n",
      "7777\n",
      "99999\n"
     ]
    }
   ],
   "source": [
    "#f\n",
    "A='1'\n",
    "B='33'\n",
    "C='555'\n",
    "D='7777'\n",
    "E='99999'\n",
    "for x in A:\n",
    "    print(A)\n",
    "    for x in B:\n",
    "        print(B)\n",
    "        for x in C:\n",
    "            print(C)\n",
    "            for x in D:\n",
    "                print(D)\n",
    "                for x in E:\n",
    "                    print(E)\n",
    "                    break\n",
    "                break\n",
    "            break\n",
    "        break\n",
    "    break"
   ]
  },
  {
   "cell_type": "code",
   "execution_count": 15,
   "id": "8eab2a6b",
   "metadata": {},
   "outputs": [
    {
     "name": "stdout",
     "output_type": "stream",
     "text": [
      "55555\n",
      "4444\n",
      "333\n",
      "22\n",
      "1\n"
     ]
    }
   ],
   "source": [
    "#G\n",
    "A='55555'\n",
    "B='4444'\n",
    "C='333'\n",
    "D='22'\n",
    "E='1'\n",
    "for x in A:\n",
    "    print(A)\n",
    "    for x in B:\n",
    "        print(B)\n",
    "        for x in C:\n",
    "            print(C)\n",
    "            for x in D:\n",
    "                print(D)\n",
    "                for x in E:\n",
    "                    print(E)\n",
    "                    break\n",
    "                break\n",
    "            break\n",
    "        break\n",
    "    break"
   ]
  },
  {
   "cell_type": "code",
   "execution_count": 16,
   "id": "a9869cf9",
   "metadata": {},
   "outputs": [
    {
     "name": "stdout",
     "output_type": "stream",
     "text": [
      "1\n",
      "21\n",
      "321\n",
      "4321\n",
      "54321\n"
     ]
    }
   ],
   "source": [
    "#H\n",
    "A='1'\n",
    "B='21'\n",
    "C='321'\n",
    "D='4321'\n",
    "E='54321'\n",
    "for x in A:\n",
    "    print(A)\n",
    "    for x in B:\n",
    "        print(B)\n",
    "        for x in C:\n",
    "            print(C)\n",
    "            for x in D:\n",
    "                print(D)\n",
    "                for x in E:\n",
    "                    print(E)\n",
    "                    break\n",
    "                break\n",
    "            break\n",
    "        break\n",
    "    break"
   ]
  },
  {
   "cell_type": "code",
   "execution_count": 17,
   "id": "a254a23a",
   "metadata": {},
   "outputs": [
    {
     "name": "stdout",
     "output_type": "stream",
     "text": [
      "54321\n",
      "4321\n",
      "321\n",
      "21\n",
      "1\n"
     ]
    }
   ],
   "source": [
    "#I\n",
    "A='54321'\n",
    "B='4321'\n",
    "C='321'\n",
    "D='21'\n",
    "E='1'\n",
    "A='1'\n",
    "B='3 2'\n",
    "C='6 5 4'\n",
    "D='10 9 8 7'"
   ]
  },
  {
   "cell_type": "code",
   "execution_count": 18,
   "id": "f9568e32",
   "metadata": {},
   "outputs": [
    {
     "name": "stdout",
     "output_type": "stream",
     "text": [
      "1\n",
      "3 2\n",
      "6 5 4\n",
      "10 9 8 7\n"
     ]
    }
   ],
   "source": [
    "#J\n",
    "A='1'\n",
    "B='3 2'\n",
    "C='6 5 4'\n",
    "D='10 9 8 7'\n",
    "for x in A:\n",
    "    print(A)\n",
    "    for x in B:\n",
    "        print(B)\n",
    "        for x in C:\n",
    "            print(C)\n",
    "            for x in D:\n",
    "                print(D)\n",
    "                break\n",
    "            break\n",
    "        break\n",
    "    break"
   ]
  },
  {
   "cell_type": "code",
   "execution_count": 23,
   "id": "d87a6c7e",
   "metadata": {},
   "outputs": [
    {
     "name": "stdout",
     "output_type": "stream",
     "text": [
      "    1\n",
      "   12\n",
      "  123\n",
      " 1234\n",
      "12345\n"
     ]
    }
   ],
   "source": [
    "#k\n",
    "A='    1' \n",
    "B='   12'\n",
    "C='  123'  \n",
    "D=' 1234' \n",
    "E='12345'\n",
    "for x in A:\n",
    "    print(A)\n",
    "    for x in B:\n",
    "        print(B)\n",
    "        for x in C:\n",
    "            print(C)\n",
    "            for x in D:\n",
    "                print(D)\n",
    "                for x in E:\n",
    "                    print(E)\n",
    "                    break\n",
    "                break\n",
    "            break\n",
    "        break\n",
    "    break"
   ]
  },
  {
   "cell_type": "code",
   "execution_count": 24,
   "id": "2c84b986",
   "metadata": {},
   "outputs": [
    {
     "name": "stdout",
     "output_type": "stream",
     "text": [
      "1\n",
      "11\n",
      "1 2 1\n",
      "1 3 3 1\n",
      "1 4 6 4 1\n",
      "1 6 15 20 15 6 1\n"
     ]
    }
   ],
   "source": [
    "#L\n",
    "A='1'\n",
    "B='11' \n",
    "C='1 2 1'\n",
    "D='1 3 3 1'  \n",
    "E='1 4 6 4 1' \n",
    "F='1 5 10 10 5 1'\n",
    "G='1 6 15 20 15 6 1'\n",
    "for x in A:\n",
    "    print(A)\n",
    "    for x in B:\n",
    "        print(B)\n",
    "        for x in C:\n",
    "            print(C)\n",
    "            for x in D:\n",
    "                print(D)\n",
    "                for x in E:\n",
    "                    print(E)\n",
    "                    for x in G:\n",
    "                        print(G)\n",
    "                        break\n",
    "                    break\n",
    "                break\n",
    "            break\n",
    "        break\n",
    "    break"
   ]
  },
  {
   "cell_type": "code",
   "execution_count": 25,
   "id": "4366e70f",
   "metadata": {},
   "outputs": [
    {
     "name": "stdout",
     "output_type": "stream",
     "text": [
      "1 2 3 4 5\n",
      "2 2 3 4 5\n",
      "3 3 3 4 5\n",
      "4 4 4 4 5\n",
      "5 5 5 5 5\n"
     ]
    }
   ],
   "source": [
    "#M\n",
    "A='1 2 3 4 5'\n",
    "B='2 2 3 4 5' \n",
    "C='3 3 3 4 5'\n",
    "D='4 4 4 4 5'  \n",
    "E='5 5 5 5 5'\n",
    "for x in A:\n",
    "    print(A)\n",
    "    for x in B:\n",
    "        print(B)\n",
    "        for x in C:\n",
    "            print(C)\n",
    "            for x in D:\n",
    "                print(D)\n",
    "                for x in E:\n",
    "                    print(E)\n",
    "                    break\n",
    "                break\n",
    "            break\n",
    "        break\n",
    "    break\n"
   ]
  },
  {
   "cell_type": "code",
   "execution_count": 28,
   "id": "c2160a76",
   "metadata": {},
   "outputs": [
    {
     "name": "stdout",
     "output_type": "stream",
     "text": [
      "1\n",
      "2 4\n",
      "3 6 9\n",
      "4 8 12 16\n",
      "5 10 15 20 25\n",
      "7 14 21 28 35 42 49\n",
      "8 16 24 32 40 48 56 64\n"
     ]
    }
   ],
   "source": [
    "#N\n",
    "A='1'\n",
    "B='2 4' \n",
    "C='3 6 9'\n",
    "D='4 8 12 16'  \n",
    "E='5 10 15 20 25' \n",
    "F='6 12 18 24 30 36 '\n",
    "G='7 14 21 28 35 42 49'\n",
    "F='8 16 24 32 40 48 56 64'\n",
    "for x in A:\n",
    "    print(A)\n",
    "    for x in B:\n",
    "        print(B)\n",
    "        for x in C:\n",
    "            print(C)\n",
    "            for x in D:\n",
    "                print(D)\n",
    "                for x in E:\n",
    "                    print(E)\n",
    "                    for x in G:\n",
    "                        print(G)\n",
    "                        for x in F:\n",
    "                            print(F)\n",
    "                            break\n",
    "                        break\n",
    "                    break\n",
    "                break\n",
    "            break\n",
    "        break\n",
    "    break\n",
    "\n",
    "                    \n",
    "                        \n"
   ]
  },
  {
   "cell_type": "code",
   "execution_count": 29,
   "id": "e5df8793",
   "metadata": {},
   "outputs": [
    {
     "name": "stdout",
     "output_type": "stream",
     "text": [
      "*\n",
      "* *\n",
      "* * *\n",
      "* * * *\n",
      "* * * * *\n"
     ]
    }
   ],
   "source": [
    "#O\n",
    "A='*'\n",
    "B='* *'\n",
    "C='* * *'\n",
    "D='* * * *'\n",
    "E='* * * * *'\n",
    "for x in A:\n",
    "    print(A)\n",
    "    for x in B:\n",
    "        print(B)\n",
    "        for x in C:\n",
    "            print(C)\n",
    "            for x in D:\n",
    "                print(D)\n",
    "                for x in E:\n",
    "                    print(E)\n",
    "                    break\n",
    "                break\n",
    "            break\n",
    "        break\n",
    "    break\n"
   ]
  },
  {
   "cell_type": "code",
   "execution_count": 31,
   "id": "bd40bc9b",
   "metadata": {},
   "outputs": [
    {
     "name": "stdout",
     "output_type": "stream",
     "text": [
      "        *\n",
      "      * *\n",
      "    * * *\n",
      "  * * * *\n",
      "* * * * *\n"
     ]
    }
   ],
   "source": [
    "#p\n",
    "A='        *'\n",
    "B='      * *'\n",
    "C='    * * *'\n",
    "D='  * * * *'\n",
    "E='* * * * *'\n",
    "for x in A:\n",
    "    print(A)\n",
    "    for x in B:\n",
    "        print(B)\n",
    "        for x in C:\n",
    "            print(C)\n",
    "            for x in D:\n",
    "                print(D)\n",
    "                for x in E:\n",
    "                    print(E)\n",
    "                    break\n",
    "                break\n",
    "            break\n",
    "        break\n",
    "    break\n"
   ]
  },
  {
   "cell_type": "code",
   "execution_count": 33,
   "id": "c8814b81",
   "metadata": {},
   "outputs": [
    {
     "name": "stdout",
     "output_type": "stream",
     "text": [
      "* * * * *\n",
      "* * * * \n",
      "* * *\n",
      "* *\n",
      "*\n"
     ]
    }
   ],
   "source": [
    "#Q\n",
    "A='* * * * *'      \n",
    "B='* * * * '    \n",
    "C='* * *'    \n",
    "D='* *'\n",
    "E='*'\n",
    "for x in A:\n",
    "    print(A)\n",
    "    for x in B:\n",
    "        print(B)\n",
    "        for x in C:\n",
    "            print(C)\n",
    "            for x in D:\n",
    "                print(D)\n",
    "                for x in E:\n",
    "                    print(E)\n",
    "                    break\n",
    "                break\n",
    "            break\n",
    "        break\n",
    "    break\n"
   ]
  },
  {
   "cell_type": "code",
   "execution_count": 36,
   "id": "76b552c3",
   "metadata": {},
   "outputs": [
    {
     "name": "stdout",
     "output_type": "stream",
     "text": [
      "* * * * * *\n",
      " * * * * *\n",
      "  * * * *\n",
      "   * * *\n",
      "    * *\n",
      "     *\n"
     ]
    }
   ],
   "source": [
    "#R\n",
    "A='* * * * * *'\n",
    "B=' * * * * *'\n",
    "C='  * * * *'  \n",
    "D='   * * *'    \n",
    "E='    * *'\n",
    "F='     *'\n",
    "for x in A:\n",
    "    print(A)\n",
    "    for x in B:\n",
    "        print(B)\n",
    "        for x in C:\n",
    "            print(C)\n",
    "            for x in D:\n",
    "                print(D)\n",
    "                for x in E:\n",
    "                    print(E)\n",
    "                    for x in F:\n",
    "                        print(F)                    \n",
    "                        break\n",
    "                    break\n",
    "                break\n",
    "            break\n",
    "        break\n",
    "    break\n"
   ]
  },
  {
   "cell_type": "code",
   "execution_count": 37,
   "id": "00f47a1b",
   "metadata": {},
   "outputs": [
    {
     "name": "stdout",
     "output_type": "stream",
     "text": [
      "*****\n",
      " ****\n",
      "  ***\n",
      "   **\n",
      "    *\n"
     ]
    }
   ],
   "source": [
    "#S\n",
    "A='*****'\n",
    "B=' ****'\n",
    "C='  ***' \n",
    "D='   **' \n",
    "E='    *'\n",
    "for x in A:\n",
    "    print(A)\n",
    "    for x in B:\n",
    "        print(B)\n",
    "        for x in C:\n",
    "            print(C)\n",
    "            for x in D:\n",
    "                print(D)\n",
    "                for x in E:\n",
    "                    print(E)\n",
    "                    break\n",
    "                break\n",
    "            break\n",
    "        break\n",
    "    break"
   ]
  },
  {
   "cell_type": "code",
   "execution_count": 39,
   "id": "defac77e",
   "metadata": {},
   "outputs": [
    {
     "name": "stdout",
     "output_type": "stream",
     "text": [
      "      *\n",
      "     * *\n",
      "    * * *\n",
      "   * * * *\n",
      "  * * * * *\n",
      " * * * * * *\n",
      "* * * * * * *\n"
     ]
    }
   ],
   "source": [
    "#T\n",
    "A='      *'\n",
    "B='     * *'\n",
    "C='    * * *'\n",
    "D='   * * * *'  \n",
    "E='  * * * * *'\n",
    "F=' * * * * * *'\n",
    "G='* * * * * * *' \n",
    "for x in A:\n",
    "    print(A)\n",
    "    for x in B:\n",
    "        print(B)\n",
    "        for x in C:\n",
    "            print(C)\n",
    "            for x in D:\n",
    "                print(D)\n",
    "                for x in E:\n",
    "                    print(E)\n",
    "                    for x in F:\n",
    "                        print(F)\n",
    "                        for x in G:\n",
    "                            print(G)\n",
    "                            break\n",
    "                        break\n",
    "                    break\n",
    "                break\n",
    "            break\n",
    "        break\n",
    "    break\n",
    "\n",
    "                    \n",
    "                        \n"
   ]
  },
  {
   "cell_type": "code",
   "execution_count": 40,
   "id": "697b5ade",
   "metadata": {},
   "outputs": [
    {
     "name": "stdout",
     "output_type": "stream",
     "text": [
      "     *\n",
      "    * *\n",
      "   * * *\n",
      "  * * * *\n",
      " * * * * *\n",
      "* * * * * *\n",
      " * * * * *\n",
      "  * * * *\n",
      "   * * *\n",
      "    * *\n",
      "     *\n"
     ]
    }
   ],
   "source": [
    "#U\n",
    "A='     *'\n",
    "B='    * *'\n",
    "C='   * * *'\n",
    "D='  * * * *'\n",
    "E=' * * * * *'\n",
    "F='* * * * * *'\n",
    "G=' * * * * *'\n",
    "H='  * * * *'\n",
    "I='   * * *'\n",
    "J='    * *'\n",
    "K='     *'\n",
    "for x in A:\n",
    "    print(A)\n",
    "    for x in B:\n",
    "        print(B)\n",
    "        for x in C:\n",
    "            print(C)\n",
    "            for x in D:\n",
    "                print(D)\n",
    "                for x in E:\n",
    "                    print(E)\n",
    "                    for x in F:\n",
    "                        print(F)\n",
    "                        for x in G:\n",
    "                            print(G)\n",
    "                            for x in H:\n",
    "                                print(H)\n",
    "                                for x in I:\n",
    "                                    print(I)\n",
    "                                    for x in J:\n",
    "                                        print(J)\n",
    "                                        for x in K:\n",
    "                                            print(K)\n",
    "                                            break\n",
    "                                        break\n",
    "                                    break\n",
    "                                break\n",
    "                            break\n",
    "                        break\n",
    "                    break\n",
    "                break\n",
    "            break\n",
    "        break\n",
    "    break\n",
    "                            "
   ]
  },
  {
   "cell_type": "code",
   "execution_count": 41,
   "id": "6e14749d",
   "metadata": {},
   "outputs": [
    {
     "name": "stdout",
     "output_type": "stream",
     "text": [
      "    *\n",
      "   * *\n",
      "  *   *\n",
      " *     *\n",
      "*       *\n",
      " *     *\n",
      "  *   *\n",
      "   * *\n",
      "    *\n"
     ]
    }
   ],
   "source": [
    "#V\n",
    "A='    *'  \n",
    "B='   * *'\n",
    "C='  *   *'\n",
    "D=' *     *'\n",
    "E='*       *' \n",
    "F=' *     *'        \n",
    "G='  *   *'   \n",
    "H='   * *'     \n",
    "I='    *'      \n",
    "for x in A:\n",
    "    print(A)\n",
    "    for x in B:\n",
    "        print(B)\n",
    "        for x in C:\n",
    "            print(C)\n",
    "            for x in D:\n",
    "                print(D)\n",
    "                for x in E:\n",
    "                    print(E)\n",
    "                    for x in F:\n",
    "                        print(F)\n",
    "                        for x in G:\n",
    "                            print(G)\n",
    "                            for x in H:\n",
    "                                print(H)\n",
    "                                for x in I:\n",
    "                                    print(I)\n",
    "                                    break\n",
    "                                break\n",
    "                            break\n",
    "                        break\n",
    "                    break\n",
    "                break\n",
    "            break\n",
    "        break\n",
    "    break\n",
    "                                            \n",
    "                   "
   ]
  },
  {
   "cell_type": "code",
   "execution_count": null,
   "id": "6dbbb99d",
   "metadata": {},
   "outputs": [],
   "source": []
  }
 ],
 "metadata": {
  "kernelspec": {
   "display_name": "Python 3 (ipykernel)",
   "language": "python",
   "name": "python3"
  },
  "language_info": {
   "codemirror_mode": {
    "name": "ipython",
    "version": 3
   },
   "file_extension": ".py",
   "mimetype": "text/x-python",
   "name": "python",
   "nbconvert_exporter": "python",
   "pygments_lexer": "ipython3",
   "version": "3.11.3"
  }
 },
 "nbformat": 4,
 "nbformat_minor": 5
}
