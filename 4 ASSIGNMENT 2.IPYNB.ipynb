{
 "cells": [
  {
   "cell_type": "code",
   "execution_count": 1,
   "id": "f2a5d8b5",
   "metadata": {},
   "outputs": [
    {
     "name": "stdout",
     "output_type": "stream",
     "text": [
      "enter n1 : 39\n",
      "enter n2 : 20\n",
      "enter symbol : *\n",
      "product of two numbers : 780\n"
     ]
    }
   ],
   "source": [
    "#1. Write a program to accept two numbers from the user and caleculate multiplication,division\n",
    "num1=int(input(\"enter n1 : \"))\n",
    "num2=int(input(\"enter n2 : \"))\n",
    "sym=input(\"enter symbol : \")\n",
    "if sym=='*':\n",
    "    print(\"product of two numbers : {}\".format(num1*num2))\n",
    "elif sym=='/':\n",
    "    print(\"division of two  numbers : {}\".format(num1/num2))\n",
    "else:\n",
    "    print(\"Quit\")\n"
   ]
  },
  {
   "cell_type": "code",
   "execution_count": 2,
   "id": "4cbb0565",
   "metadata": {},
   "outputs": [
    {
     "name": "stdout",
     "output_type": "stream",
     "text": [
      "enter your string : jdgrnghfggbd\n"
     ]
    },
    {
     "data": {
      "text/plain": [
       "'jgnhgb'"
      ]
     },
     "execution_count": 2,
     "metadata": {},
     "output_type": "execute_result"
    }
   ],
   "source": [
    "#2. write a python program to print the characters from a string that are present at an even index\n",
    "\n",
    "x=input(\"enter your string : \")\n",
    "x[::2]\n"
   ]
  },
  {
   "cell_type": "code",
   "execution_count": 3,
   "id": "6dbb4e9a",
   "metadata": {},
   "outputs": [
    {
     "name": "stdout",
     "output_type": "stream",
     "text": [
      "enter your string : abfgftghvf\n"
     ]
    },
    {
     "data": {
      "text/plain": [
       "'bgthf'"
      ]
     },
     "execution_count": 3,
     "metadata": {},
     "output_type": "execute_result"
    }
   ],
   "source": [
    "#3. write a python program to print the characters from a string that are present at an odd index\n",
    "\n",
    "S=input(\"enter your string : \") \n",
    "S[1::2]\n"
   ]
  },
  {
   "cell_type": "code",
   "execution_count": 4,
   "id": "af23e8b2",
   "metadata": {},
   "outputs": [
    {
     "name": "stdout",
     "output_type": "stream",
     "text": [
      "enter n1 : 2\n",
      "enter n2 : 4\n",
      "sum of two numbers : 6\n"
     ]
    }
   ],
   "source": [
    "#4.write a python program which will print the sum of two numbers if the two numbers are even or it will print difference of \n",
    "#two numbers\n",
    "\n",
    "\n",
    "num1=int(input(\"enter n1 : \"))\n",
    "num2=int(input(\"enter n2 : \"))\n",
    "num3=num1+num2\n",
    "\n",
    "if (num1%2==0) and (num2%2==0):\n",
    "    print(\"sum of two numbers : {}\".format(num1+num2))\n",
    "else:\n",
    "     print(\"difference of two numbers : {}\".format(num1-num2))\n",
    "    \n"
   ]
  },
  {
   "cell_type": "code",
   "execution_count": 5,
   "id": "ba731227",
   "metadata": {},
   "outputs": [
    {
     "name": "stdout",
     "output_type": "stream",
     "text": [
      "qwertyiob\n",
      "QwErTyIoB"
     ]
    }
   ],
   "source": [
    "#5. write a python program to convert all even indexed alphabets to upper and odd indexed char.\n",
    "\n",
    "al=input()\n",
    "for y in range(len(al)):\n",
    "    if y%2==0:\n",
    "        print(al[y].upper(),end=\"\")\n",
    "    else:\n",
    "        print(al[y].lower(),end=\"\")\n"
   ]
  },
  {
   "cell_type": "code",
   "execution_count": 7,
   "id": "d6ba2bf5",
   "metadata": {},
   "outputs": [
    {
     "name": "stdout",
     "output_type": "stream",
     "text": [
      "enter any number : 6\n",
      "False\n"
     ]
    }
   ],
   "source": [
    "#6. Write a python program which will print True if the input number is divisible by 5 or else False\n",
    "\n",
    "num1=int(input(\"enter any number : \"))\n",
    "if (num1%5==0):\n",
    "    print(\"True\")\n",
    "else:\n",
    "    print(\"False\")\n"
   ]
  },
  {
   "cell_type": "code",
   "execution_count": 8,
   "id": "dfa48fc8",
   "metadata": {},
   "outputs": [
    {
     "name": "stdout",
     "output_type": "stream",
     "text": [
      "enter n1 : 56\n",
      "enter n2 : 2\n",
      "58\n"
     ]
    }
   ],
   "source": [
    "#7. Give two integer numbers return their product only if the product is greater than 1000,else return their sum\n",
    "\n",
    "num1=int(input(\"enter n1 : \"))\n",
    "num2=int(input(\"enter n2 : \"))\n",
    "num3=num1*num2\n",
    "num4=num1+num2\n",
    "if num3>1000:\n",
    "    print(num3)\n",
    "else:\n",
    "    print(num4)\n"
   ]
  },
  {
   "cell_type": "code",
   "execution_count": 9,
   "id": "1648c9ac",
   "metadata": {},
   "outputs": [
    {
     "name": "stdout",
     "output_type": "stream",
     "text": [
      "pjtvos\n"
     ]
    }
   ],
   "source": [
    "#8. given two strings x,y writes a program to return a new string made of x and y's first,middle and last charecters\n",
    "\n",
    "x=\"pytho\"\n",
    "y=\"javas\"\n",
    "print(\"{}{}{}{}{}{}\".format(x[0],y[0],x[2],y[2],x[4],y[4]))\n",
    "\n"
   ]
  },
  {
   "cell_type": "code",
   "execution_count": 10,
   "id": "a11fbf70",
   "metadata": {},
   "outputs": [
    {
     "name": "stdout",
     "output_type": "stream",
     "text": [
      "enter x value: 3\n",
      "enter y value: 5\n",
      "enter z value: 1\n",
      "False\n"
     ]
    }
   ],
   "source": [
    "#12. Write a python program that accept three inputs x,y and z print True if one of them is 10 or if their sum is 10 otherwise \n",
    "#print False\n",
    "\n",
    "x=int(input(\"enter x value: \"))\n",
    "y=int(input(\"enter y value: \"))\n",
    "z=int(input(\"enter z value: \"))\n",
    "sum=x+y+z\n",
    "if (x==10 or y==10 or z==10) or (sum==10):\n",
    "    print(\"True\")\n",
    "else:\n",
    "    print(\"False\")\n"
   ]
  },
  {
   "cell_type": "code",
   "execution_count": 11,
   "id": "79f91b4f",
   "metadata": {},
   "outputs": [
    {
     "name": "stdout",
     "output_type": "stream",
     "text": [
      "enter the string: play\n",
      "playing\n"
     ]
    }
   ],
   "source": [
    "#11.  Write a program to add\"ing\" at the end of a given string(string length should be equal to or more tham 3).if the given \n",
    "#string is already ends with \"ing\" then add\"ly\" insted. if the stringth og the given string is lessthan 3,leave it unchanged\n",
    "\n",
    "S1=input(\"enter the string: \")\n",
    "if len(S1)>=3:\n",
    "    print(\"{}\".format(S1)+\"ing\")\n",
    "elif S1[-3]==\"i\" and S1[-2]==\"n\" and S1[-1]==\"g\":\n",
    "    print(\"{}\".format(S1)+\"ly\")\n",
    "else:\n",
    "    print(S1)\n"
   ]
  },
  {
   "cell_type": "code",
   "execution_count": 12,
   "id": "c9f7e2c6",
   "metadata": {},
   "outputs": [
    {
     "name": "stdout",
     "output_type": "stream",
     "text": [
      "enter x value: 45\n",
      "enter y value: 2\n",
      "enter z value: 7\n",
      "True\n"
     ]
    }
   ],
   "source": [
    "#13. write a python program that accepts three inputs x,y and z print True if x*y>z otherwise False\n",
    "\n",
    "X=int(input(\"enter x value: \"))\n",
    "Y=int(input(\"enter y value: \"))\n",
    "Z=int(input(\"enter z value: \"))\n",
    "if X*Y>Z:\n",
    "    print(\"True\")\n",
    "else:\n",
    "    print(\"False\")\n"
   ]
  },
  {
   "cell_type": "code",
   "execution_count": 13,
   "id": "20a497b2",
   "metadata": {},
   "outputs": [],
   "source": [
    "#9. write a python program to take three names as input from a user in a single input() functiopn call\n",
    "\n",
    "def input(name1,name2,name3):\n",
    "    print(\"name1 {}\\nname2 {}\\nname3 {}\".format(name1,name2,name3))\n"
   ]
  },
  {
   "cell_type": "code",
   "execution_count": 14,
   "id": "4e0f602a",
   "metadata": {},
   "outputs": [
    {
     "name": "stdout",
     "output_type": "stream",
     "text": [
      "name1 p1\n",
      "name2 p2\n",
      "name3 p3\n"
     ]
    }
   ],
   "source": [
    "input(\"p1\",\"p2\",\"p3\")\n"
   ]
  },
  {
   "cell_type": "code",
   "execution_count": 1,
   "id": "6eafd1ce",
   "metadata": {},
   "outputs": [
    {
     "name": "stdout",
     "output_type": "stream",
     "text": [
      "enter the string: ha\n",
      "hahaha\n"
     ]
    }
   ],
   "source": [
    "\n",
    "\n",
    "#15. Write a python program that takes a string input,we'll say that the front is the first three charecters of the string.\n",
    "#if the string length is less than three charecters,the front is whatever is there.return a new string,which is three copies \n",
    "#of that front\n",
    "stri=input(\"enter the string: \")\n",
    "if len(stri)>=3:\n",
    "    print(stri[0:3])\n",
    "else:\n",
    "    print(stri*3)\n"
   ]
  },
  {
   "cell_type": "code",
   "execution_count": 1,
   "id": "ad2c8c44",
   "metadata": {},
   "outputs": [
    {
     "name": "stdout",
     "output_type": "stream",
     "text": [
      "enter  string : ertyuio\n",
      "ert\n"
     ]
    }
   ],
   "source": [
    "#16.write a python program that takes in a word and determines weather or not it is plural.Aplural word is one that ends in \"s\".\n",
    "\n",
    "s=input(\"enter  string : \")\n",
    "if len(s)>=3:\n",
    "    print(s[0:3])\n",
    "else:\n",
    "    print(s*3)\n"
   ]
  },
  {
   "cell_type": "code",
   "execution_count": 2,
   "id": "5886e9ff",
   "metadata": {},
   "outputs": [
    {
     "name": "stdout",
     "output_type": "stream",
     "text": [
      "enter age:24\n",
      "enter'yes' for break and 'no' for not in break: yes\n",
      "bartender can not serve\n"
     ]
    }
   ],
   "source": [
    "#17. A bartender is writing a simple program to determine weather he should serve drinks to someone.He only serves drinks to \n",
    "#people18 and older and when he's not on break.Given the person's age and their break time is in session,create a python \n",
    "#program to print weather he should serve drinks or not\n",
    "\n",
    "\n",
    "age=int(input(\"enter age:\"))\n",
    "leave=input(\"enter'yes' for break and 'no' for not in break: \")\n",
    "if(age>=18) and (leave=='0'):\n",
    "    print(\"bartender can serve\")\n",
    "else:\n",
    "    print(\"bartender can not serve\")\n"
   ]
  },
  {
   "cell_type": "code",
   "execution_count": 5,
   "id": "0bf42344",
   "metadata": {},
   "outputs": [
    {
     "name": "stdout",
     "output_type": "stream",
     "text": [
      "harsha\n",
      "harsha is a bro of manoj\n"
     ]
    }
   ],
   "source": [
    "#18. Manoj Kumar has family and friends.help him remind them who is who.Given a string with a name ,\n",
    "#return the relation of that person to Manoj Kumar\n",
    " \n",
    "    \n",
    "names=[\"srinu\",\"lakshmi\",\"harsha\",\"harika\"] \n",
    "relation=[\"father\",\"mother\",\"bro\",\"sis\"]\n",
    "person=input()\n",
    "for i in range(len(names)):\n",
    "    if (person==names[i]):\n",
    "        print(person,\"is a\",relation[i],\"of manoj\")\n",
    "    \n"
   ]
  },
  {
   "cell_type": "code",
   "execution_count": 1,
   "id": "87852726",
   "metadata": {},
   "outputs": [
    {
     "name": "stdout",
     "output_type": "stream",
     "text": [
      "gopi\n",
      "oigp\n"
     ]
    }
   ],
   "source": [
    "#19. Write a program that takes a string,breaks it up and returns it with ovels  first ,consonents second.\n",
    "#for any charecter its not vowles(like special charecters or spaces),treat them like consonents.\n",
    "\n",
    "\n",
    "string=input()\n",
    "a=string.split()\n",
    "r=[]\n",
    "vowels=[\"a\",\"e\",\"i\",\"o\",\"u\"]\n",
    "for i in range(len(string)):\n",
    "    if(string[i] in vowels):\n",
    "        r.append(string[i])\n",
    "for i in range(len(string)):\n",
    "    if(string[i] not in vowels):\n",
    "        r.append(string[i])\n",
    "final_string=\"\".join(r)\n",
    "print(final_string)\n"
   ]
  },
  {
   "cell_type": "code",
   "execution_count": null,
   "id": "e749b8db",
   "metadata": {},
   "outputs": [
    {
     "name": "stdout",
     "output_type": "stream",
     "text": [
      "enter first number: 12\n",
      "enter symbol: *\n",
      "enter second number: 3\n",
      "multiplication of two numbers are  12 * 3 = 36\n"
     ]
    }
   ],
   "source": [
    "#20. Create a dynamic chalculater which askes for numbers and operator and return the answer\n",
    "\n",
    "quit=1\n",
    "while quit==1:\n",
    "    num1=int(input(\"enter first number: \"))\n",
    "    sym=input(\"enter symbol: \")\n",
    "    num2=int(input(\"enter second number: \"))\n",
    "    if (sym=='+'):\n",
    "        print(\"addition of two numbers are  {} + {} = {}\".format(num1,num2,num1+num2))\n",
    "        s=input(\"quit the caliculater with q\")\n",
    "        if(s=='q'):\n",
    "            break\n",
    "        else:\n",
    "            continue\n",
    "    elif sym=='-':\n",
    "        print(\"subtraction of two numbers are  {} - {} = {}\".format(num1,num2,num1-num2))\n",
    "        s=input(\"quit the caliculater with q\")\n",
    "        if(s=='q'):\n",
    "            break\n",
    "        else:\n",
    "            continue\n",
    "    elif sym=='*':\n",
    "        print(\"multiplication of two numbers are  {} * {} = {}\".format(num1,num2,num1*num2))\n",
    "        s=input(\"quit the caliculater with q\")\n",
    "        if(s=='q'):\n",
    "                break\n",
    "        else:\n",
    "                continue\n",
    "    elif sym=='/':\n",
    "        print(\"division of two numbers are  {} / {} = {}\".format(num1,num2,num1/num2))\n",
    "        s=input(\"quit the caliculater with q\")\n",
    "        if(s=='q'):\n",
    "            break\n",
    "        else:\n",
    "            continue\n",
    "    elif (sym=='**'):\n",
    "        print(\"power of two numbers are  {} ** {} = {}\".format(num1,num2,num1**num2))\n",
    "        s=input(\"quit the caliculater with q\")\n",
    "        if(s=='q'):\n",
    "            break\n",
    "        else:\n",
    "            continue\n",
    "                       \n",
    "                    \n",
    "         \n"
   ]
  },
  {
   "cell_type": "code",
   "execution_count": 1,
   "id": "9e071bff",
   "metadata": {},
   "outputs": [
    {
     "name": "stdout",
     "output_type": "stream",
     "text": [
      "enter the first string: sdfghjk\n",
      "enter the second string: wertyui\n",
      "True\n"
     ]
    }
   ],
   "source": [
    "#14. Write a python program that accepts two strings inputs return True depending on whether the total number of char in the \n",
    "#first string is equal to the total numberof characters in the second string\n",
    "\n",
    "str1=input(\"enter the first string: \")\n",
    "str2=input(\"enter the second string: \")\n",
    "if len(str1)==len(str2):\n",
    "    print(\"True\")\n",
    "else:\n",
    "    print(\"False\")\n"
   ]
  },
  {
   "cell_type": "code",
   "execution_count": null,
   "id": "26ace601",
   "metadata": {},
   "outputs": [],
   "source": []
  },
  {
   "cell_type": "code",
   "execution_count": null,
   "id": "b2303316",
   "metadata": {},
   "outputs": [],
   "source": []
  },
  {
   "cell_type": "code",
   "execution_count": null,
   "id": "53c1288b",
   "metadata": {},
   "outputs": [],
   "source": []
  },
  {
   "cell_type": "code",
   "execution_count": null,
   "id": "dfe233a2",
   "metadata": {},
   "outputs": [],
   "source": []
  },
  {
   "cell_type": "code",
   "execution_count": null,
   "id": "705b7677",
   "metadata": {},
   "outputs": [],
   "source": []
  }
 ],
 "metadata": {
  "kernelspec": {
   "display_name": "Python 3 (ipykernel)",
   "language": "python",
   "name": "python3"
  },
  "language_info": {
   "codemirror_mode": {
    "name": "ipython",
    "version": 3
   },
   "file_extension": ".py",
   "mimetype": "text/x-python",
   "name": "python",
   "nbconvert_exporter": "python",
   "pygments_lexer": "ipython3",
   "version": "3.11.3"
  }
 },
 "nbformat": 4,
 "nbformat_minor": 5
}
